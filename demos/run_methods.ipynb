{
 "cells": [
  {
   "cell_type": "code",
   "execution_count": 1,
   "metadata": {},
   "outputs": [],
   "source": [
    "import sys\n",
    "sys.path.insert(0, '../tree/')\n",
    "import pandas as pd\n",
    "import numpy as np\n",
    "import matplotlib.pyplot as plt\n",
    "import copy\n",
    "import time\n",
    "from mixetree import MixETree"
   ]
  },
  {
   "cell_type": "code",
   "execution_count": 2,
   "metadata": {},
   "outputs": [],
   "source": [
    "node_list = [[[13, 2, 2], 8, [4, 4], [2, 22]], \n",
    "             [2, 13], [[2, 2, 2, 2, 2], 10], [[2, 2, 4], [2, 6]], \n",
    "             [4, 4, [8, 2]]]\n",
    "alpha_true = [0.4, -0.3, 0.3]\n",
    "base_rate_true = 0.1\n",
    "n_cov = 3"
   ]
  },
  {
   "cell_type": "code",
   "execution_count": 3,
   "metadata": {},
   "outputs": [],
   "source": [
    "data = pd.read_csv('../data/test/sim_data_tiny_1568922732.csv')\n",
    "meas_std = .05\n",
    "data['meas_std'] = meas_std\n",
    "data['meas_val'] = data['true_val']*(1 + np.random.randn(data.shape[0])*meas_std)"
   ]
  },
  {
   "cell_type": "code",
   "execution_count": 4,
   "metadata": {},
   "outputs": [],
   "source": [
    "file_path = '../data/test/20190919_1568922732/'\n",
    "hold_out = ['1_5', '1_4_2']\n",
    "hold_out_leaves = [('1_1_1_1', .4), ('1_2_2', .4)]\n",
    "mtr = MixETree(data, node_list, n_cov, file_path, hold_out, hold_out_leaves)"
   ]
  },
  {
   "cell_type": "code",
   "execution_count": 5,
   "metadata": {},
   "outputs": [
    {
     "data": {
      "text/html": [
       "<div>\n",
       "<style scoped>\n",
       "    .dataframe tbody tr th:only-of-type {\n",
       "        vertical-align: middle;\n",
       "    }\n",
       "\n",
       "    .dataframe tbody tr th {\n",
       "        vertical-align: top;\n",
       "    }\n",
       "\n",
       "    .dataframe thead th {\n",
       "        text-align: right;\n",
       "    }\n",
       "</style>\n",
       "<table border=\"1\" class=\"dataframe\">\n",
       "  <thead>\n",
       "    <tr style=\"text-align: right;\">\n",
       "      <th></th>\n",
       "      <th>Unnamed: 0</th>\n",
       "      <th>cov1</th>\n",
       "      <th>cov2</th>\n",
       "      <th>cov3</th>\n",
       "      <th>hold_out</th>\n",
       "      <th>leaf</th>\n",
       "      <th>level_0</th>\n",
       "      <th>level_0_u</th>\n",
       "      <th>level_1</th>\n",
       "      <th>level_1_u</th>\n",
       "      <th>level_2</th>\n",
       "      <th>level_2_u</th>\n",
       "      <th>level_3</th>\n",
       "      <th>meas_std</th>\n",
       "      <th>meas_val</th>\n",
       "      <th>n_data_in_leaf</th>\n",
       "      <th>node</th>\n",
       "      <th>true_val</th>\n",
       "      <th>hold_out_branch</th>\n",
       "    </tr>\n",
       "  </thead>\n",
       "  <tbody>\n",
       "    <tr>\n",
       "      <th>0</th>\n",
       "      <td>0</td>\n",
       "      <td>0.158863</td>\n",
       "      <td>0.235319</td>\n",
       "      <td>0.412593</td>\n",
       "      <td>True</td>\n",
       "      <td>1_1_1_1</td>\n",
       "      <td>1</td>\n",
       "      <td>-0.819048</td>\n",
       "      <td>1_1</td>\n",
       "      <td>-0.278462</td>\n",
       "      <td>1_1_1</td>\n",
       "      <td>-0.542971</td>\n",
       "      <td>1_1_1_1</td>\n",
       "      <td>0.05</td>\n",
       "      <td>0.021708</td>\n",
       "      <td>13</td>\n",
       "      <td>1_1_1_1</td>\n",
       "      <td>0.021789</td>\n",
       "      <td>1_1_1_1</td>\n",
       "    </tr>\n",
       "    <tr>\n",
       "      <th>1</th>\n",
       "      <td>1</td>\n",
       "      <td>0.362580</td>\n",
       "      <td>0.232722</td>\n",
       "      <td>0.224204</td>\n",
       "      <td>True</td>\n",
       "      <td>1_1_1_1</td>\n",
       "      <td>1</td>\n",
       "      <td>-0.819048</td>\n",
       "      <td>1_1</td>\n",
       "      <td>-0.278462</td>\n",
       "      <td>1_1_1</td>\n",
       "      <td>-0.542971</td>\n",
       "      <td>1_1_1_1</td>\n",
       "      <td>0.05</td>\n",
       "      <td>0.021489</td>\n",
       "      <td>13</td>\n",
       "      <td>1_1_1_1</td>\n",
       "      <td>0.022358</td>\n",
       "      <td>1_1_1_1</td>\n",
       "    </tr>\n",
       "    <tr>\n",
       "      <th>2</th>\n",
       "      <td>2</td>\n",
       "      <td>0.202682</td>\n",
       "      <td>0.189160</td>\n",
       "      <td>0.251344</td>\n",
       "      <td>True</td>\n",
       "      <td>1_1_1_1</td>\n",
       "      <td>1</td>\n",
       "      <td>-0.819048</td>\n",
       "      <td>1_1</td>\n",
       "      <td>-0.278462</td>\n",
       "      <td>1_1_1</td>\n",
       "      <td>-0.542971</td>\n",
       "      <td>1_1_1_1</td>\n",
       "      <td>0.05</td>\n",
       "      <td>0.021079</td>\n",
       "      <td>13</td>\n",
       "      <td>1_1_1_1</td>\n",
       "      <td>0.021422</td>\n",
       "      <td>1_1_1_1</td>\n",
       "    </tr>\n",
       "    <tr>\n",
       "      <th>3</th>\n",
       "      <td>3</td>\n",
       "      <td>0.078406</td>\n",
       "      <td>-0.117362</td>\n",
       "      <td>-0.042118</td>\n",
       "      <td>True</td>\n",
       "      <td>1_1_1_1</td>\n",
       "      <td>1</td>\n",
       "      <td>-0.819048</td>\n",
       "      <td>1_1</td>\n",
       "      <td>-0.278462</td>\n",
       "      <td>1_1_1</td>\n",
       "      <td>-0.542971</td>\n",
       "      <td>1_1_1_1</td>\n",
       "      <td>0.05</td>\n",
       "      <td>0.019813</td>\n",
       "      <td>13</td>\n",
       "      <td>1_1_1_1</td>\n",
       "      <td>0.020463</td>\n",
       "      <td>1_1_1_1</td>\n",
       "    </tr>\n",
       "    <tr>\n",
       "      <th>4</th>\n",
       "      <td>4</td>\n",
       "      <td>-0.270412</td>\n",
       "      <td>0.134604</td>\n",
       "      <td>0.170277</td>\n",
       "      <td>True</td>\n",
       "      <td>1_1_1_1</td>\n",
       "      <td>1</td>\n",
       "      <td>-0.819048</td>\n",
       "      <td>1_1</td>\n",
       "      <td>-0.278462</td>\n",
       "      <td>1_1_1</td>\n",
       "      <td>-0.542971</td>\n",
       "      <td>1_1_1_1</td>\n",
       "      <td>0.05</td>\n",
       "      <td>0.017913</td>\n",
       "      <td>13</td>\n",
       "      <td>1_1_1_1</td>\n",
       "      <td>0.017588</td>\n",
       "      <td>1_1_1_1</td>\n",
       "    </tr>\n",
       "  </tbody>\n",
       "</table>\n",
       "</div>"
      ],
      "text/plain": [
       "   Unnamed: 0      cov1      cov2      cov3  hold_out     leaf  level_0  \\\n",
       "0           0  0.158863  0.235319  0.412593      True  1_1_1_1        1   \n",
       "1           1  0.362580  0.232722  0.224204      True  1_1_1_1        1   \n",
       "2           2  0.202682  0.189160  0.251344      True  1_1_1_1        1   \n",
       "3           3  0.078406 -0.117362 -0.042118      True  1_1_1_1        1   \n",
       "4           4 -0.270412  0.134604  0.170277      True  1_1_1_1        1   \n",
       "\n",
       "   level_0_u level_1  level_1_u level_2  level_2_u  level_3  meas_std  \\\n",
       "0  -0.819048     1_1  -0.278462   1_1_1  -0.542971  1_1_1_1      0.05   \n",
       "1  -0.819048     1_1  -0.278462   1_1_1  -0.542971  1_1_1_1      0.05   \n",
       "2  -0.819048     1_1  -0.278462   1_1_1  -0.542971  1_1_1_1      0.05   \n",
       "3  -0.819048     1_1  -0.278462   1_1_1  -0.542971  1_1_1_1      0.05   \n",
       "4  -0.819048     1_1  -0.278462   1_1_1  -0.542971  1_1_1_1      0.05   \n",
       "\n",
       "   meas_val  n_data_in_leaf     node  true_val hold_out_branch  \n",
       "0  0.021708              13  1_1_1_1  0.021789         1_1_1_1  \n",
       "1  0.021489              13  1_1_1_1  0.022358         1_1_1_1  \n",
       "2  0.021079              13  1_1_1_1  0.021422         1_1_1_1  \n",
       "3  0.019813              13  1_1_1_1  0.020463         1_1_1_1  \n",
       "4  0.017913              13  1_1_1_1  0.017588         1_1_1_1  "
      ]
     },
     "execution_count": 5,
     "metadata": {},
     "output_type": "execute_result"
    }
   ],
   "source": [
    "data.head()"
   ]
  },
  {
   "cell_type": "markdown",
   "metadata": {},
   "source": [
    "#### Oracle"
   ]
  },
  {
   "cell_type": "code",
   "execution_count": 6,
   "metadata": {},
   "outputs": [
    {
     "name": "stdout",
     "output_type": "stream",
     "text": [
      "../data/test/20190919_1568922732/ns_node_1.db init\n",
      "../data/test/20190919_1568922732/ns_node_1.db fit both\n",
      "holdout  1_5\n",
      "../data/test/20190919_1568922732/ns_node_1_4.db init\n",
      "../data/test/20190919_1568922732/ns_node_1_4.db fit both\n",
      "holdout  1_4_2\n",
      "../data/test/20190919_1568922732/ns_node_1_1_2.db init\n",
      "../data/test/20190919_1568922732/ns_node_1_1_2.db fit fixed\n",
      "../data/test/20190919_1568922732/ns_node_1_1_2.db set start_var fit_var\n",
      "../data/test/20190919_1568922732/ns_node_1_1_2.db set scale_var fit_var\n",
      "../data/test/20190919_1568922732/ns_node_1_1_1.db init\n",
      "../data/test/20190919_1568922732/ns_node_1_1_1.db fit both\n",
      "../data/test/20190919_1568922732/ns_node_1_1_3.db init\n",
      "../data/test/20190919_1568922732/ns_node_1_1_3.db fit both\n",
      "../data/test/20190919_1568922732/ns_node_1_1_4.db init\n",
      "../data/test/20190919_1568922732/ns_node_1_1_4.db fit both\n",
      "../data/test/20190919_1568922732/ns_node_1_2.db init\n",
      "../data/test/20190919_1568922732/ns_node_1_2.db fit both\n",
      "../data/test/20190919_1568922732/ns_node_1_3_2.db init\n",
      "../data/test/20190919_1568922732/ns_node_1_3_2.db fit fixed\n",
      "../data/test/20190919_1568922732/ns_node_1_3_2.db set start_var fit_var\n",
      "../data/test/20190919_1568922732/ns_node_1_3_2.db set scale_var fit_var\n",
      "../data/test/20190919_1568922732/ns_node_1_3_1.db init\n",
      "../data/test/20190919_1568922732/ns_node_1_3_1.db fit both\n",
      "../data/test/20190919_1568922732/ns_node_1_4_1.db init\n",
      "../data/test/20190919_1568922732/ns_node_1_4_1.db fit both\n",
      "elapsed 10.441898822784424\n"
     ]
    }
   ],
   "source": [
    "import time\n",
    "t0 = time.time()\n",
    "mtr.fit_low_level('oracle',{'iota':([base_rate_true], [0], 'uniform'), \n",
    "                'alpha': (alpha_true, [0]*n_cov, 'uniform')}, zero_sum=True, use_lambda=False)\n",
    "print('elapsed', time.time() - t0)"
   ]
  },
  {
   "cell_type": "code",
   "execution_count": 7,
   "metadata": {},
   "outputs": [],
   "source": [
    "rel_err = []\n",
    "rel_err.append((mtr.df[mtr.df['hold_out'] == False]['oracle_avgint'] - \n",
    "                mtr.df[mtr.df['hold_out'] == False]['true_val'])/np.abs(mtr.df[mtr.df['hold_out'] == False]['true_val']))\n",
    "rel_err.append((mtr.df[mtr.df['hold_out'] == True]['oracle_avgint'] - \n",
    "                mtr.df[mtr.df['hold_out'] == True]['true_val'])/np.abs(mtr.df[mtr.df['hold_out'] == True]['true_val'])) "
   ]
  },
  {
   "cell_type": "code",
   "execution_count": 8,
   "metadata": {},
   "outputs": [
    {
     "name": "stdout",
     "output_type": "stream",
     "text": [
      "relative error mean 0.0446967716895 std 0.229285740178\n"
     ]
    },
    {
     "data": {
      "image/png": "[encoded data removed]",
      "text/plain": [
       "<matplotlib.figure.Figure at 0x7f375ec02278>"
      ]
     },
     "metadata": {
      "needs_background": "light"
     },
     "output_type": "display_data"
    }
   ],
   "source": [
    "print('relative error mean', np.mean(np.abs(rel_err[0])), 'std', np.std(rel_err[1]))\n",
    "plt.hist(rel_err[0], bins=20);\n",
    "plt.title('fit given true alpha and iota');"
   ]
  },
  {
   "cell_type": "code",
   "execution_count": 9,
   "metadata": {},
   "outputs": [
    {
     "data": {
      "image/png": "[encoded data removed]",
      "text/plain": [
       "<matplotlib.figure.Figure at 0x7f375ec00be0>"
      ]
     },
     "metadata": {
      "needs_background": "light"
     },
     "output_type": "display_data"
    }
   ],
   "source": [
    "plt.hist(rel_err[1], bins=20);\n",
    "plt.title('fit given true alpha and iota');"
   ]
  },
  {
   "cell_type": "markdown",
   "metadata": {},
   "source": [
    "#### Bottom fit"
   ]
  },
  {
   "cell_type": "code",
   "execution_count": 10,
   "metadata": {},
   "outputs": [
    {
     "name": "stdout",
     "output_type": "stream",
     "text": [
      "../data/test/20190919_1568922732/ns_node_1.db init\n",
      "../data/test/20190919_1568922732/ns_node_1.db fit both\n",
      "holdout  1_5\n",
      "../data/test/20190919_1568922732/ns_node_1_4.db init\n",
      "../data/test/20190919_1568922732/ns_node_1_4.db fit both\n",
      "holdout  1_4_2\n",
      "../data/test/20190919_1568922732/ns_node_1_1_2.db init\n",
      "../data/test/20190919_1568922732/ns_node_1_1_2.db fit fixed\n",
      "../data/test/20190919_1568922732/ns_node_1_1_2.db set start_var fit_var\n",
      "../data/test/20190919_1568922732/ns_node_1_1_2.db set scale_var fit_var\n",
      "../data/test/20190919_1568922732/ns_node_1_1_1.db init\n",
      "../data/test/20190919_1568922732/ns_node_1_1_1.db fit both\n",
      "../data/test/20190919_1568922732/ns_node_1_1_3.db init\n",
      "../data/test/20190919_1568922732/ns_node_1_1_3.db fit both\n",
      "../data/test/20190919_1568922732/ns_node_1_1_4.db init\n",
      "../data/test/20190919_1568922732/ns_node_1_1_4.db fit both\n",
      "../data/test/20190919_1568922732/ns_node_1_2.db init\n",
      "../data/test/20190919_1568922732/ns_node_1_2.db fit both\n",
      "../data/test/20190919_1568922732/ns_node_1_3_2.db init\n",
      "../data/test/20190919_1568922732/ns_node_1_3_2.db fit fixed\n",
      "../data/test/20190919_1568922732/ns_node_1_3_2.db set start_var fit_var\n",
      "../data/test/20190919_1568922732/ns_node_1_3_2.db set scale_var fit_var\n",
      "../data/test/20190919_1568922732/ns_node_1_3_1.db init\n",
      "../data/test/20190919_1568922732/ns_node_1_3_1.db fit both\n",
      "../data/test/20190919_1568922732/ns_node_1_4_1.db init\n",
      "../data/test/20190919_1568922732/ns_node_1_4_1.db fit both\n",
      "elapsed 10.826470136642456\n"
     ]
    }
   ],
   "source": [
    "import time\n",
    "t0 = time.time()\n",
    "mtr.reset()\n",
    "mtr.fit_low_level('direct_bottom',zero_sum=True, use_lambda=False, add_intercept=False)\n",
    "print('elapsed', time.time() - t0)"
   ]
  },
  {
   "cell_type": "code",
   "execution_count": 11,
   "metadata": {},
   "outputs": [
    {
     "name": "stdout",
     "output_type": "stream",
     "text": [
      "alpha  1 0.450315  std 0.249403129501\n",
      "alpha  2 -0.355505  std 0.24641964304\n",
      "alpha  3 0.275955  std 0.19255337317\n",
      "../data/test/20190919_1568922732/ns_node_1.db init\n",
      "../data/test/20190919_1568922732/ns_node_1.db fit both\n",
      "holdout  1_5\n",
      "../data/test/20190919_1568922732/ns_node_1_4.db init\n",
      "../data/test/20190919_1568922732/ns_node_1_4.db fit both\n",
      "holdout  1_4_2\n",
      "../data/test/20190919_1568922732/ns_node_1_1_2.db init\n",
      "../data/test/20190919_1568922732/ns_node_1_1_2.db fit fixed\n",
      "../data/test/20190919_1568922732/ns_node_1_1_2.db set start_var fit_var\n",
      "../data/test/20190919_1568922732/ns_node_1_1_2.db set scale_var fit_var\n",
      "../data/test/20190919_1568922732/ns_node_1_1_1.db init\n",
      "../data/test/20190919_1568922732/ns_node_1_1_1.db fit both\n",
      "../data/test/20190919_1568922732/ns_node_1_1_3.db init\n",
      "../data/test/20190919_1568922732/ns_node_1_1_3.db fit both\n",
      "../data/test/20190919_1568922732/ns_node_1_1_4.db init\n",
      "../data/test/20190919_1568922732/ns_node_1_1_4.db fit both\n",
      "../data/test/20190919_1568922732/ns_node_1_2.db init\n",
      "../data/test/20190919_1568922732/ns_node_1_2.db fit both\n",
      "../data/test/20190919_1568922732/ns_node_1_3_2.db init\n",
      "../data/test/20190919_1568922732/ns_node_1_3_2.db fit fixed\n",
      "../data/test/20190919_1568922732/ns_node_1_3_2.db set start_var fit_var\n",
      "../data/test/20190919_1568922732/ns_node_1_3_2.db set scale_var fit_var\n",
      "../data/test/20190919_1568922732/ns_node_1_3_1.db init\n",
      "../data/test/20190919_1568922732/ns_node_1_3_1.db fit both\n",
      "../data/test/20190919_1568922732/ns_node_1_4_1.db init\n",
      "../data/test/20190919_1568922732/ns_node_1_4_1.db fit both\n"
     ]
    }
   ],
   "source": [
    "alphas = []\n",
    "for i in range(n_cov):\n",
    "    vals = [x['cov'+str(i+1)] for k, x in mtr.alpha_est.items()]\n",
    "    print('alpha ', str(i+1), np.median(vals), ' std', np.std(vals))\n",
    "    alphas.append(np.median(vals))\n",
    "mtr.fit_low_level('direct_bottom',{'alpha': (alphas, [0]*n_cov, 'uniform')}, zero_sum=True, add_intercept=False)"
   ]
  },
  {
   "cell_type": "code",
   "execution_count": 12,
   "metadata": {},
   "outputs": [],
   "source": [
    "rel_err = []\n",
    "rel_err.append((mtr.df[mtr.df['hold_out'] == False]['direct_bottom_avgint'] - \n",
    "                mtr.df[mtr.df['hold_out'] == False]['true_val'])/np.abs(mtr.df[mtr.df['hold_out'] == False]['true_val']))\n",
    "rel_err.append((mtr.df[mtr.df['hold_out'] == True]['direct_bottom_avgint'] - \n",
    "                mtr.df[mtr.df['hold_out'] == True]['true_val'])/np.abs(mtr.df[mtr.df['hold_out'] == True]['true_val'])) "
   ]
  },
  {
   "cell_type": "code",
   "execution_count": 13,
   "metadata": {},
   "outputs": [
    {
     "name": "stdout",
     "output_type": "stream",
     "text": [
      "relative error mean 0.04659213141 std 0.228834147902\n"
     ]
    },
    {
     "data": {
      "image/png": "[encoded data removed]",
      "text/plain": [
       "<matplotlib.figure.Figure at 0x7f375ea19278>"
      ]
     },
     "metadata": {
      "needs_background": "light"
     },
     "output_type": "display_data"
    }
   ],
   "source": [
    "print('relative error mean', np.mean(np.abs(rel_err[0])), 'std', np.std(rel_err[1]))\n",
    "plt.hist(rel_err[0], bins=20);\n",
    "plt.title('bottom fit');"
   ]
  },
  {
   "cell_type": "code",
   "execution_count": 14,
   "metadata": {},
   "outputs": [
    {
     "data": {
      "image/png": "[encoded data removed]",
      "text/plain": [
       "<matplotlib.figure.Figure at 0x7f375ea32c18>"
      ]
     },
     "metadata": {
      "needs_background": "light"
     },
     "output_type": "display_data"
    }
   ],
   "source": [
    "plt.hist(rel_err[1], bins=20);\n",
    "plt.title('bottom fit');"
   ]
  },
  {
   "cell_type": "markdown",
   "metadata": {},
   "source": [
    "#### Top-bottom"
   ]
  },
  {
   "cell_type": "code",
   "execution_count": 15,
   "metadata": {},
   "outputs": [
    {
     "name": "stdout",
     "output_type": "stream",
     "text": [
      "../data/test/20190919_1568922732/node_1.db init\n",
      "../data/test/20190919_1568922732/node_1.db fit both\n",
      "holdout  1_5\n",
      "../data/test/20190919_1568922732/ns_node_1_4.db init\n",
      "../data/test/20190919_1568922732/ns_node_1_4.db fit both\n",
      "holdout  1_4_2\n",
      "../data/test/20190919_1568922732/ns_node_1_1_2.db init\n",
      "../data/test/20190919_1568922732/ns_node_1_1_2.db fit fixed\n",
      "../data/test/20190919_1568922732/ns_node_1_1_2.db set start_var fit_var\n",
      "../data/test/20190919_1568922732/ns_node_1_1_2.db set scale_var fit_var\n",
      "../data/test/20190919_1568922732/ns_node_1_1_1.db init\n",
      "../data/test/20190919_1568922732/ns_node_1_1_1.db fit both\n",
      "../data/test/20190919_1568922732/ns_node_1_1_3.db init\n",
      "../data/test/20190919_1568922732/ns_node_1_1_3.db fit both\n",
      "../data/test/20190919_1568922732/ns_node_1_1_4.db init\n",
      "../data/test/20190919_1568922732/ns_node_1_1_4.db fit both\n",
      "../data/test/20190919_1568922732/ns_node_1_2.db init\n",
      "../data/test/20190919_1568922732/ns_node_1_2.db fit both\n",
      "../data/test/20190919_1568922732/ns_node_1_3_2.db init\n",
      "../data/test/20190919_1568922732/ns_node_1_3_2.db fit fixed\n",
      "../data/test/20190919_1568922732/ns_node_1_3_2.db set start_var fit_var\n",
      "../data/test/20190919_1568922732/ns_node_1_3_2.db set scale_var fit_var\n",
      "../data/test/20190919_1568922732/ns_node_1_3_1.db init\n",
      "../data/test/20190919_1568922732/ns_node_1_3_1.db fit both\n",
      "../data/test/20190919_1568922732/ns_node_1_4_1.db init\n",
      "../data/test/20190919_1568922732/ns_node_1_4_1.db fit both\n",
      "elapsed 11.618542671203613\n"
     ]
    }
   ],
   "source": [
    "import time\n",
    "t0 = time.time()\n",
    "mtr.fit_no_sim('top_bottom', zero_sum=True, use_lambda=False)\n",
    "print('elapsed', time.time() - t0)"
   ]
  },
  {
   "cell_type": "code",
   "execution_count": 16,
   "metadata": {},
   "outputs": [
    {
     "name": "stdout",
     "output_type": "stream",
     "text": [
      "alpha  1 0.4342\n",
      "alpha  2 -0.29719\n",
      "alpha  3 0.24679\n",
      "relative error mean 0.104637104095 std 0.168008230006\n"
     ]
    }
   ],
   "source": [
    "alphas = []\n",
    "for i in range(n_cov):\n",
    "    print('alpha ', str(i+1), mtr.alpha_est['1']['cov'+str(i+1)])\n",
    "    alphas.append(mtr.alpha_est['1']['cov'+str(i+1)])\n",
    "rel_err = (mtr.df['top_bottom_avgint'] - mtr.df['true_val'])/mtr.df['true_val']\n",
    "print('relative error mean', np.mean(np.abs(rel_err)), 'std', np.std(rel_err))"
   ]
  },
  {
   "cell_type": "code",
   "execution_count": 17,
   "metadata": {},
   "outputs": [
    {
     "data": {
      "image/png": "[encoded data removed]",
      "text/plain": [
       "<matplotlib.figure.Figure at 0x7f376140b860>"
      ]
     },
     "metadata": {
      "needs_background": "light"
     },
     "output_type": "display_data"
    }
   ],
   "source": [
    "rel_err = []\n",
    "rel_err.append((mtr.df[mtr.df['hold_out'] == False]['top_bottom_avgint'] - \n",
    "                mtr.df[mtr.df['hold_out'] == False]['true_val'])/np.abs(mtr.df[mtr.df['hold_out'] == False]['true_val']))\n",
    "rel_err.append((mtr.df[mtr.df['hold_out'] == True]['top_bottom_avgint'] - \n",
    "                mtr.df[mtr.df['hold_out'] == True]['true_val'])/np.abs(mtr.df[mtr.df['hold_out'] == True]['true_val'])) \n",
    "plt.hist(rel_err[0], bins=20);\n",
    "plt.title('Top-Bottom fit')\n",
    "plt.xlabel('alpha fit = '+str(np.round(alphas,2)));"
   ]
  },
  {
   "cell_type": "code",
   "execution_count": 18,
   "metadata": {},
   "outputs": [
    {
     "data": {
      "image/png": "[encoded data removed]",
      "text/plain": [
       "<matplotlib.figure.Figure at 0x7f3760ffc198>"
      ]
     },
     "metadata": {
      "needs_background": "light"
     },
     "output_type": "display_data"
    }
   ],
   "source": [
    "plt.hist(rel_err[1], bins=20);\n",
    "plt.title('Top-Bottom fit')\n",
    "plt.xlabel('alpha fit = '+str(np.round(alphas,2)));"
   ]
  },
  {
   "cell_type": "code",
   "execution_count": 19,
   "metadata": {},
   "outputs": [
    {
     "name": "stdout",
     "output_type": "stream",
     "text": [
      "../data/test/20190919_1568922732/node_1.db init\n",
      "../data/test/20190919_1568922732/node_1.db fit both\n",
      "holdout  1_5\n",
      "../data/test/20190919_1568922732/ns_node_1_4.db init\n",
      "../data/test/20190919_1568922732/ns_node_1_4.db fit both\n",
      "holdout  1_4_2\n",
      "../data/test/20190919_1568922732/ns_node_1_1.db init\n",
      "../data/test/20190919_1568922732/ns_node_1_1.db fit both\n",
      "../data/test/20190919_1568922732/ns_node_1_1_1.db init\n",
      "../data/test/20190919_1568922732/ns_node_1_1_1.db fit both\n",
      "../data/test/20190919_1568922732/ns_node_1_1_3.db init\n",
      "../data/test/20190919_1568922732/ns_node_1_1_3.db fit both\n",
      "../data/test/20190919_1568922732/ns_node_1_1_4.db init\n",
      "../data/test/20190919_1568922732/ns_node_1_1_4.db fit both\n",
      "../data/test/20190919_1568922732/ns_node_1_2.db init\n",
      "../data/test/20190919_1568922732/ns_node_1_2.db fit both\n",
      "../data/test/20190919_1568922732/ns_node_1_3.db init\n",
      "../data/test/20190919_1568922732/ns_node_1_3.db fit both\n",
      "../data/test/20190919_1568922732/ns_node_1_3_1.db init\n",
      "../data/test/20190919_1568922732/ns_node_1_3_1.db fit both\n",
      "../data/test/20190919_1568922732/ns_node_1_4_1.db init\n",
      "../data/test/20190919_1568922732/ns_node_1_4_1.db fit both\n",
      "elapsed 10.91081428527832\n"
     ]
    }
   ],
   "source": [
    "import time\n",
    "t0 = time.time()\n",
    "mtr.fit_no_sim('top_bottom2', no_leaf=True, zero_sum=True, use_lambda=False)\n",
    "print('elapsed', time.time() - t0)"
   ]
  },
  {
   "cell_type": "code",
   "execution_count": 20,
   "metadata": {},
   "outputs": [
    {
     "name": "stdout",
     "output_type": "stream",
     "text": [
      "alpha  1 0.4342\n",
      "alpha  2 -0.29719\n",
      "alpha  3 0.24679\n"
     ]
    }
   ],
   "source": [
    "alphas = []\n",
    "for i in range(n_cov):\n",
    "    print('alpha ', str(i+1), mtr.alpha_est['1']['cov'+str(i+1)])\n",
    "    alphas.append(mtr.alpha_est['1']['cov'+str(i+1)])"
   ]
  },
  {
   "cell_type": "markdown",
   "metadata": {},
   "source": [
    "#### Cascade fit, use $\\gamma$ to inflate variance of priors"
   ]
  },
  {
   "cell_type": "code",
   "execution_count": 21,
   "metadata": {},
   "outputs": [
    {
     "name": "stdout",
     "output_type": "stream",
     "text": [
      "../data/test/20190919_1568922732/s_node_1.db init\n",
      "../data/test/20190919_1568922732/s_node_1.db fit both\n",
      "holdout  1_5\n",
      "../data/test/20190919_1568922732/s_node_1.db set truth_var fit_var\n",
      "../data/test/20190919_1568922732/s_node_1.db set start_var fit_var\n",
      "../data/test/20190919_1568922732/s_node_1.db set scale_var fit_var\n",
      "../data/test/20190919_1568922732/s_node_1.db simulate 10\n",
      "../data/test/20190919_1568922732/s_node_1.db sample simulate 10\n",
      "../data/test/20190919_1568922732/s_node_1.db predict sample\n",
      "../data/test/20190919_1568922732/s_node_1_1.db init\n",
      "../data/test/20190919_1568922732/s_node_1_1.db fit both\n",
      "../data/test/20190919_1568922732/s_node_1_1.db set truth_var fit_var\n",
      "../data/test/20190919_1568922732/s_node_1_1.db set start_var fit_var\n",
      "../data/test/20190919_1568922732/s_node_1_1.db set scale_var fit_var\n",
      "../data/test/20190919_1568922732/s_node_1_1.db simulate 10\n",
      "../data/test/20190919_1568922732/s_node_1_1.db sample simulate 10\n",
      "../data/test/20190919_1568922732/s_node_1_1.db predict sample\n",
      "../data/test/20190919_1568922732/s_node_1_1_1.db init\n",
      "../data/test/20190919_1568922732/s_node_1_1_1.db fit both\n",
      "../data/test/20190919_1568922732/s_node_1_1_3.db init\n",
      "../data/test/20190919_1568922732/s_node_1_1_3.db fit both\n",
      "../data/test/20190919_1568922732/s_node_1_1_4.db init\n",
      "../data/test/20190919_1568922732/s_node_1_1_4.db fit both\n",
      "../data/test/20190919_1568922732/s_node_1_2.db init\n",
      "../data/test/20190919_1568922732/s_node_1_2.db fit both\n",
      "../data/test/20190919_1568922732/s_node_1_3.db init\n",
      "../data/test/20190919_1568922732/s_node_1_3.db fit both\n",
      "../data/test/20190919_1568922732/s_node_1_3.db set truth_var fit_var\n",
      "../data/test/20190919_1568922732/s_node_1_3.db set start_var fit_var\n",
      "../data/test/20190919_1568922732/s_node_1_3.db set scale_var fit_var\n",
      "../data/test/20190919_1568922732/s_node_1_3.db simulate 10\n",
      "../data/test/20190919_1568922732/s_node_1_3.db sample simulate 10\n",
      "../data/test/20190919_1568922732/s_node_1_3.db predict sample\n",
      "../data/test/20190919_1568922732/s_node_1_3_1.db init\n",
      "../data/test/20190919_1568922732/s_node_1_3_1.db fit both\n",
      "../data/test/20190919_1568922732/s_node_1_4.db init\n",
      "../data/test/20190919_1568922732/s_node_1_4.db fit both\n",
      "holdout  1_4_2\n",
      "../data/test/20190919_1568922732/s_node_1_4.db set truth_var fit_var\n",
      "../data/test/20190919_1568922732/s_node_1_4.db set start_var fit_var\n",
      "../data/test/20190919_1568922732/s_node_1_4.db set scale_var fit_var\n",
      "../data/test/20190919_1568922732/s_node_1_4.db simulate 10\n",
      "../data/test/20190919_1568922732/s_node_1_4.db sample simulate 10\n",
      "../data/test/20190919_1568922732/s_node_1_4.db predict sample\n",
      "../data/test/20190919_1568922732/s_node_1_4_1.db init\n",
      "../data/test/20190919_1568922732/s_node_1_4_1.db fit both\n",
      "elapsed 20.345777988433838\n"
     ]
    }
   ],
   "source": [
    "import time\n",
    "t0 = time.time()\n",
    "mtr.fit_sim('cascade', n_sim=10, use_lambda=False, zero_sum=True)\n",
    "print('elapsed', time.time() - t0)"
   ]
  },
  {
   "cell_type": "code",
   "execution_count": 22,
   "metadata": {},
   "outputs": [
    {
     "name": "stdout",
     "output_type": "stream",
     "text": [
      "median alpha 1 0.36828 std 0.035582393413\n",
      "median alpha 2 -0.34361 std 0.0576328686515\n",
      "median alpha 3 0.222195 std 0.0376045499375\n"
     ]
    }
   ],
   "source": [
    "alphas = []\n",
    "for i in range(n_cov):\n",
    "    vals = [x['cov'+str(i+1)] for k, x in mtr.alpha_est.items()]\n",
    "    print('median alpha', str(i+1), np.median(vals), 'std', np.std(vals))\n",
    "    alphas.append(np.median(vals))\n",
    "    #plt.hist(vals)"
   ]
  },
  {
   "cell_type": "code",
   "execution_count": 23,
   "metadata": {},
   "outputs": [
    {
     "data": {
      "image/png": "[encoded data removed]",
      "text/plain": [
       "<matplotlib.figure.Figure at 0x7f375e985a20>"
      ]
     },
     "metadata": {
      "needs_background": "light"
     },
     "output_type": "display_data"
    }
   ],
   "source": [
    "rel_err = []\n",
    "rel_err.append((mtr.df[mtr.df['hold_out'] == False]['cascade_avgint'] - \n",
    "                mtr.df[mtr.df['hold_out'] == False]['true_val'])/np.abs(mtr.df[mtr.df['hold_out'] == False]['true_val']))\n",
    "rel_err.append((mtr.df[mtr.df['hold_out'] == True]['cascade_avgint'] - \n",
    "                mtr.df[mtr.df['hold_out'] == True]['true_val'])/np.abs(mtr.df[mtr.df['hold_out'] == True]['true_val'])) \n",
    "plt.hist(rel_err[0], bins=20);\n",
    "plt.xlabel('alpha fit = '+str(np.round(alphas,2)));"
   ]
  },
  {
   "cell_type": "code",
   "execution_count": 24,
   "metadata": {},
   "outputs": [
    {
     "data": {
      "image/png": "[encoded data removed]",
      "text/plain": [
       "<matplotlib.figure.Figure at 0x7f375eb042e8>"
      ]
     },
     "metadata": {
      "needs_background": "light"
     },
     "output_type": "display_data"
    }
   ],
   "source": [
    "plt.hist(rel_err[1], bins=20);\n",
    "plt.xlabel('alpha fit = '+str(np.round(alphas,2)));"
   ]
  },
  {
   "cell_type": "code",
   "execution_count": null,
   "metadata": {},
   "outputs": [],
   "source": []
  }
 ],
 "metadata": {
  "kernelspec": {
   "display_name": "Python 3",
   "language": "python",
   "name": "python3"
  },
  "language_info": {
   "codemirror_mode": {
    "name": "ipython",
    "version": 3
   },
   "file_extension": ".py",
   "mimetype": "text/x-python",
   "name": "python",
   "nbconvert_exporter": "python",
   "pygments_lexer": "ipython3",
   "version": "3.6.8"
  }
 },
 "nbformat": 4,
 "nbformat_minor": 2
}
