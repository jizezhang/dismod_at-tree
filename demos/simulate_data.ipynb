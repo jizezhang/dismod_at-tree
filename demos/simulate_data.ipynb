{
 "cells": [
  {
   "cell_type": "code",
   "execution_count": 1,
   "metadata": {},
   "outputs": [],
   "source": [
    "import sys\n",
    "sys.path.insert(0, '../tree/')\n",
    "import pandas as pd\n",
    "import numpy as np\n",
    "from simulate_tree_data import simulate_tree_data\n",
    "import copy\n",
    "import time"
   ]
  },
  {
   "cell_type": "code",
   "execution_count": 2,
   "metadata": {},
   "outputs": [],
   "source": [
    "ts = int(time.time())"
   ]
  },
  {
   "cell_type": "code",
   "execution_count": 7,
   "metadata": {},
   "outputs": [],
   "source": [
    "node_list = [[[13, 2, 2], 8, [4, 4], [2, 22]], \n",
    "             [2, 13], [[2, 2, 2, 2, 2], 10], [[2, 2, 4], [2, 6]], \n",
    "             [4, 4, [8, 2]]]\n",
    "alpha_true = [0.4, -0.3, 0.3]\n",
    "base_rate_true = 0.1\n",
    "gamma_list = [0.4, 0.2, 0.1, .05]\n",
    "n_cov = 3\n",
    "meas_std = .01\n",
    "data, X = simulate_tree_data(base_rate_true, alpha_true,meas_std, node_list, gamma_list,\n",
    "                                 add_cov=True, center_u=False, add_noise=False, cov_noise=True, seed=ts)\n",
    "df = pd.DataFrame(data)"
   ]
  },
  {
   "cell_type": "code",
   "execution_count": 8,
   "metadata": {},
   "outputs": [
    {
     "data": {
      "text/plain": [
       "8.6467856174080744"
      ]
     },
     "execution_count": 8,
     "metadata": {},
     "output_type": "execute_result"
    }
   ],
   "source": [
    "np.linalg.cond(X)"
   ]
  },
  {
   "cell_type": "code",
   "execution_count": 9,
   "metadata": {},
   "outputs": [
    {
     "name": "stdout",
     "output_type": "stream",
     "text": [
      "mean covariate effects 0.366760986298\n"
     ]
    }
   ],
   "source": [
    "cov_eff = 0.\n",
    "for i,row in df.iterrows():\n",
    "    val = 0.0\n",
    "    for j in range(n_cov):\n",
    "        val += df.loc[i,'cov'+str(j+1)]*alpha_true[j]\n",
    "    cov_eff += abs(val)\n",
    "print('mean covariate effects',cov_eff/df.shape[0])"
   ]
  },
  {
   "cell_type": "code",
   "execution_count": 10,
   "metadata": {},
   "outputs": [
    {
     "name": "stdout",
     "output_type": "stream",
     "text": [
      "mean random effects magnitude 0.604815415513\n"
     ]
    }
   ],
   "source": [
    "re = []\n",
    "for i,row in df.iterrows():\n",
    "    u = 0.0\n",
    "    for j in range(3):\n",
    "        if not pd.isna(row['level_'+str(j)+'_u']):\n",
    "            u += row['level_'+str(j)+'_u']\n",
    "    re.append(abs(u))\n",
    "print('mean random effects magnitude',np.mean(np.array(re)))"
   ]
  },
  {
   "cell_type": "code",
   "execution_count": 12,
   "metadata": {},
   "outputs": [],
   "source": [
    "file_name = '../data/test/sim_data_tiny_' + str(ts) +'.csv'\n",
    "df.to_csv(file_name)"
   ]
  },
  {
   "cell_type": "code",
   "execution_count": null,
   "metadata": {},
   "outputs": [],
   "source": []
  }
 ],
 "metadata": {
  "kernelspec": {
   "display_name": "Python 3",
   "language": "python",
   "name": "python3"
  },
  "language_info": {
   "codemirror_mode": {
    "name": "ipython",
    "version": 3
   },
   "file_extension": ".py",
   "mimetype": "text/x-python",
   "name": "python",
   "nbconvert_exporter": "python",
   "pygments_lexer": "ipython3",
   "version": "3.6.8"
  }
 },
 "nbformat": 4,
 "nbformat_minor": 2
}
